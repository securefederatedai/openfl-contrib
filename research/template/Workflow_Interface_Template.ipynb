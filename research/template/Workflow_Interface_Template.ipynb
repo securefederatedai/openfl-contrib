{
 "cells": [
  {
   "cell_type": "markdown",
   "id": "14821d97",
   "metadata": {},
   "source": [
    "# OpenFL Workflow Interface Template for Research Contributions\n",
    "[![Open In Colab](https://colab.research.google.com/assets/colab-badge.svg)](https://colab.research.google.com/github/securefederatedai/openfl-contrib/blob/main/research/template/Workflow_Interface_Template.ipynb)"
   ]
  },
  {
   "cell_type": "markdown",
   "id": "bd059520",
   "metadata": {},
   "source": [
    "This template provides a basic structure for setting up a federated learning workflow using OpenFL's experimental workflow interface. Customize the sections below to fit your specific use case. For illustration, we will use a PyTorch-based Federation, but OpenFL is flexible and inherently framework agnostic.\n",
    "\n",
    "Please refer to [101_MNIST.ipynb](https://github.com/securefederatedai/openfl/blob/develop/openfl-tutorials/experimental/workflow/101_MNIST.ipynb) for a complete end-to-end example."
   ]
  },
  {
   "cell_type": "markdown",
   "id": "39c3d86a",
   "metadata": {},
   "source": [
    "# Introduction\n",
    "Briefly describe the purpose of your federated learning experiment and any specific goals or requirements."
   ]
  },
  {
   "cell_type": "markdown",
   "id": "fc8e35da",
   "metadata": {},
   "source": [
    "# Setup\n",
    "Install necessary dependencies and import required libraries. For maintainability, it is recommend to pin your version of OpenFL and the corresponding work_interface_requirements.txt file. "
   ]
  },
  {
   "cell_type": "code",
   "execution_count": null,
   "id": "f7f98600",
   "metadata": {},
   "outputs": [],
   "source": [
    "# Install dependencies\n",
    "!pip install openfl==1.8.0\n",
    "!pip install -r https://raw.githubusercontent.com/securefederatedai/openfl/refs/tags/v1.8/openfl-tutorials/experimental/workflow/workflow_interface_requirements.txt\n",
    "!pip install -r requirements.txt\n",
    "\n",
    "# Uncomment if running in Google Colab\n",
    "!#!pip install -r https://raw.githubusercontent.com/securefederatedai/openfl-contrib/main/research/template/requirements.txt\n",
    "# import os\n",
    "# os.environ[\"USERNAME\"] = \"colab\""
   ]
  },
  {
   "cell_type": "markdown",
   "id": "7237eac4",
   "metadata": {},
   "source": [
    "# Data Preparation\n",
    "Define your data loaders, model, optimizer, and any helper functions needed for your experiment."
   ]
  },
  {
   "cell_type": "code",
   "execution_count": null,
   "id": "7e85e030",
   "metadata": {},
   "outputs": [],
   "source": [
    "# Import necessary libraries\n",
    "import torch\n",
    "import torch.nn as nn\n",
    "import torch.nn.functional as F\n",
    "import torch.optim as optim\n",
    "import torchvision\n",
    "import numpy as np\n",
    "\n",
    "# Define model, optimizer, and data loaders\n",
    "# Customize these according to your experiment\n",
    "class Net(nn.Module):\n",
    "    def __init__(self):\n",
    "        super(Net, self).__init__()\n",
    "        # Define layers\n",
    "        pass\n",
    "\n",
    "    def forward(self, x):\n",
    "        # Define forward pass\n",
    "        pass\n",
    "\n",
    "def inference(network, test_loader):\n",
    "    # Define inference logic\n",
    "    pass\n"
   ]
  },
  {
   "cell_type": "markdown",
   "id": "cd268911",
   "metadata": {},
   "source": [
    "# Workflow Definition\n",
    "Define the federated learning workflow using OpenFL's interface."
   ]
  },
  {
   "cell_type": "code",
   "execution_count": null,
   "id": "precise-studio",
   "metadata": {},
   "outputs": [],
   "source": [
    "# Import OpenFL components\n",
    "from openfl.experimental.workflow.interface import FLSpec, Aggregator, Collaborator\n",
    "from openfl.experimental.workflow.runtime import LocalRuntime\n",
    "from openfl.experimental.workflow.placement import aggregator, collaborator\n",
    "\n",
    "# Define your federated averaging function\n",
    "def FedAvg(models, weights=None):\n",
    "    # Implement federated averaging\n",
    "    pass\n"
   ]
  },
  {
   "cell_type": "markdown",
   "id": "8e406db6",
   "metadata": {
    "scrolled": true
   },
   "source": [
    "# Flow Definition\n",
    "Define the flow of tasks in the federated learning experiment."
   ]
  },
  {
   "cell_type": "code",
   "execution_count": null,
   "id": "difficult-madrid",
   "metadata": {},
   "outputs": [],
   "source": [
    "class FederatedFlow(FLSpec):\n",
    "    def __init__(self, model=None, optimizer=None, rounds=3, **kwargs):\n",
    "        super().__init__(**kwargs)\n",
    "        # Initialize model and optimizer\n",
    "        pass\n",
    "\n",
    "    @aggregator\n",
    "    def start(self):\n",
    "        # Define start logic\n",
    "        pass\n",
    "\n",
    "    @collaborator\n",
    "    def aggregated_model_validation(self):\n",
    "        # Define validation logic\n",
    "        pass\n",
    "\n",
    "    @collaborator\n",
    "    def train(self):\n",
    "        # Define training logic\n",
    "        pass\n",
    "\n",
    "    @collaborator\n",
    "    def local_model_validation(self):\n",
    "        # Define local validation logic\n",
    "        pass\n",
    "\n",
    "    @aggregator\n",
    "    def join(self, inputs):\n",
    "        # Define join logic\n",
    "        pass\n",
    "\n",
    "    @aggregator\n",
    "    def end(self):\n",
    "        # Define end logic\n",
    "        pass\n"
   ]
  },
  {
   "cell_type": "markdown",
   "id": "2aabf61e",
   "metadata": {},
   "source": [
    "# Setup Participants\n",
    "Define the aggregator and collaborators, and assign private attributes."
   ]
  },
  {
   "cell_type": "code",
   "execution_count": null,
   "id": "forward-world",
   "metadata": {},
   "outputs": [],
   "source": [
    "# Setup participants\n",
    "aggregator = Aggregator()\n",
    "aggregator.private_attributes = {}\n",
    "\n",
    "# Setup collaborators with private attributes\n",
    "collaborator_names = ['Collaborator1', 'Collaborator2', 'Collaborator3']\n",
    "collaborators = [Collaborator(name=name) for name in collaborator_names]\n",
    "for idx, collaborator in enumerate(collaborators):\n",
    "    # Assign private attributes\n",
    "    collaborator.private_attributes = {\n",
    "        'train_loader': None,  # Replace with actual DataLoader\n",
    "        'test_loader': None    # Replace with actual DataLoader\n",
    "    }\n",
    "\n",
    "local_runtime = LocalRuntime(aggregator=aggregator, collaborators=collaborators, backend='single_process')\n",
    "print(f'Local runtime collaborators = {local_runtime.collaborators}')"
   ]
  },
  {
   "cell_type": "markdown",
   "id": "278ad46b",
   "metadata": {},
   "source": [
    "# Run Experiment\n",
    "Execute the federated learning workflow."
   ]
  },
  {
   "cell_type": "code",
   "execution_count": null,
   "id": "a175b4d6",
   "metadata": {},
   "outputs": [],
   "source": [
    "# Initialize and run the flow\n",
    "model = None\n",
    "optimizer = None\n",
    "flflow = FederatedFlow(model, optimizer, rounds=2, checkpoint=True)\n",
    "flflow.runtime = local_runtime\n",
    "flflow.run()"
   ]
  },
  {
   "cell_type": "markdown",
   "id": "9a7cc8f7",
   "metadata": {},
   "source": [
    "# Results\n",
    "Retrieve and display the results of the experiment."
   ]
  },
  {
   "cell_type": "code",
   "execution_count": null,
   "id": "863761fe",
   "metadata": {},
   "outputs": [],
   "source": [
    "# Display final model weights and accuracy\n",
    "print(f'Sample of the final model weights: {flflow.model.state_dict()[\"conv1.weight\"][0]}')\n",
    "print(f'\\nFinal aggregated model accuracy for {flflow.rounds} rounds of training: {flflow.aggregated_model_accuracy}')"
   ]
  },
  {
   "cell_type": "markdown",
   "id": "5dd1558c",
   "metadata": {},
   "source": [
    "# Checkpointing\n",
    "Utilize checkpointing to examine intermediate results."
   ]
  },
  {
   "cell_type": "code",
   "execution_count": null,
   "id": "443b06e2",
   "metadata": {},
   "outputs": [],
   "source": [
    "# Run another experiment with checkpointing\n",
    "flflow2 = FederatedFlow(model=flflow.model, optimizer=flflow.optimizer, rounds=2, checkpoint=True)\n",
    "flflow2.runtime = local_runtime\n",
    "flflow2.run()"
   ]
  },
  {
   "cell_type": "markdown",
   "id": "a61a876d",
   "metadata": {},
   "source": [
    "# Analyze Checkpoints\n",
    "Examine the checkpoints to retrieve intermediate data and logs."
   ]
  },
  {
   "cell_type": "code",
   "execution_count": null,
   "id": "verified-favor",
   "metadata": {},
   "outputs": [],
   "source": [
    "# Retrieve run ID\n",
    "run_id = flflow2._run_id"
   ]
  },
  {
   "cell_type": "code",
   "execution_count": null,
   "id": "statutory-prime",
   "metadata": {},
   "outputs": [],
   "source": [
    "# Import Metaflow components\n",
    "from metaflow import Metaflow, Flow, Task, Step"
   ]
  },
  {
   "cell_type": "code",
   "execution_count": null,
   "id": "fifty-tamil",
   "metadata": {},
   "outputs": [],
   "source": [
    "# List available flows\n",
    "m = Metaflow()\n",
    "list(m)"
   ]
  },
  {
   "cell_type": "markdown",
   "id": "b55ccb19",
   "metadata": {},
   "source": [
    "# Examine Latest Run\n",
    "Look at the latest run and its steps."
   ]
  },
  {
   "cell_type": "code",
   "execution_count": null,
   "id": "grand-defendant",
   "metadata": {},
   "outputs": [],
   "source": [
    "# Get latest run\n",
    "f = Flow('FederatedFlow').latest_run"
   ]
  },
  {
   "cell_type": "code",
   "execution_count": null,
   "id": "incident-novelty",
   "metadata": {},
   "outputs": [],
   "source": [
    "# Display run details\n",
    "f"
   ]
  },
  {
   "cell_type": "markdown",
   "id": "e5efa1ff",
   "metadata": {},
   "source": [
    "# List Steps\n",
    "List the steps executed in the flow."
   ]
  },
  {
   "cell_type": "code",
   "execution_count": null,
   "id": "increasing-dressing",
   "metadata": {},
   "outputs": [],
   "source": [
    "# List steps\n",
    "list(f)"
   ]
  },
  {
   "cell_type": "markdown",
   "id": "3292b2e0",
   "metadata": {},
   "source": [
    "# Task Details\n",
    "Retrieve details of a specific task."
   ]
  },
  {
   "cell_type": "code",
   "execution_count": null,
   "id": "olympic-latter",
   "metadata": {},
   "outputs": [],
   "source": [
    "# Get specific task\n",
    "s = Step(f'FederatedFlow/{run_id}/train')"
   ]
  },
  {
   "cell_type": "code",
   "execution_count": null,
   "id": "awful-posting",
   "metadata": {},
   "outputs": [],
   "source": [
    "# Display task details\n",
    "s"
   ]
  },
  {
   "cell_type": "code",
   "execution_count": null,
   "id": "median-double",
   "metadata": {},
   "outputs": [],
   "source": [
    "# List task steps\n",
    "list(s)"
   ]
  },
  {
   "cell_type": "markdown",
   "id": "eb1866b7",
   "metadata": {},
   "source": [
    "# Task Artifacts\n",
    "Examine the data artifacts generated by a task."
   ]
  },
  {
   "cell_type": "code",
   "execution_count": null,
   "id": "adult-maldives",
   "metadata": {},
   "outputs": [],
   "source": [
    "# Get task\n",
    "t = Task(f'FederatedFlow/{run_id}/train/9')"
   ]
  },
  {
   "cell_type": "code",
   "execution_count": null,
   "id": "changed-hungarian",
   "metadata": {},
   "outputs": [],
   "source": [
    "# Display task\n",
    "t"
   ]
  },
  {
   "cell_type": "markdown",
   "id": "ef877a50",
   "metadata": {},
   "source": [
    "# Task Data\n",
    "Retrieve data artifacts from the task."
   ]
  },
  {
   "cell_type": "code",
   "execution_count": null,
   "id": "academic-hierarchy",
   "metadata": {},
   "outputs": [],
   "source": [
    "# Display task data\n",
    "t.data"
   ]
  },
  {
   "cell_type": "code",
   "execution_count": null,
   "id": "thermal-torture",
   "metadata": {},
   "outputs": [],
   "source": [
    "# Display specific data\n",
    "t.data.input"
   ]
  },
  {
   "cell_type": "markdown",
   "id": "9826c45f",
   "metadata": {},
   "source": [
    "# Task Logs\n",
    "Examine the logs generated by the task."
   ]
  },
  {
   "cell_type": "code",
   "execution_count": null,
   "id": "auburn-working",
   "metadata": {},
   "outputs": [],
   "source": [
    "# Display stdout\n",
    "print(t.stdout)"
   ]
  },
  {
   "cell_type": "markdown",
   "id": "dd962ddc",
   "metadata": {},
   "source": [
    "# Error Logs\n",
    "Examine any error logs generated by the task."
   ]
  },
  {
   "cell_type": "code",
   "execution_count": null,
   "id": "f439dff8",
   "metadata": {},
   "outputs": [],
   "source": [
    "# Display stderr\n",
    "print(t.stderr)"
   ]
  },
  {
   "cell_type": "markdown",
   "id": "426f2395",
   "metadata": {},
   "source": [
    "# Conclusion\n",
    "Summarize the results and next steps for further experimentation."
   ]
  }
 ],
 "metadata": {
  "kernelspec": {
   "display_name": "env-workspace-builder-openfl",
   "language": "python",
   "name": "python3"
  },
  "language_info": {
   "codemirror_mode": {
    "name": "ipython",
    "version": 3
   },
   "file_extension": ".py",
   "mimetype": "text/x-python",
   "name": "python",
   "nbconvert_exporter": "python",
   "pygments_lexer": "ipython3",
   "version": "3.11.5"
  }
 },
 "nbformat": 4,
 "nbformat_minor": 5
}
